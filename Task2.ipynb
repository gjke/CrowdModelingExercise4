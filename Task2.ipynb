{
 "cells": [
  {
   "cell_type": "code",
   "execution_count": null,
   "metadata": {},
   "outputs": [],
   "source": [
    "%load_ext autoreload\n",
    "%autoreload 2\n",
    "import numpy as np\n",
    "from numpy import linalg as LA\n",
    "\n",
    "import sklearn\n",
    "from sklearn import datasets\n",
    "import matplotlib.pyplot as plt\n",
    "import matplotlib.gridspec as gridspec\n",
    "\n",
    "from lib.pca.utils import center_data, pca\n",
    "from lib.diffusion_map.diffusion_map import diffusion_map\n",
    "\n",
    "from scipy.spatial import distance_matrix\n",
    "from scipy.sparse.linalg import eigsh\n",
    "from scipy.linalg import eigh\n",
    "%matplotlib inline\n",
    "plt.rcParams['figure.dpi'] = 75"
   ]
  },
  {
   "cell_type": "markdown",
   "metadata": {},
   "source": [
    "# Part One"
   ]
  },
  {
   "cell_type": "markdown",
   "metadata": {},
   "source": [
    "## Creating the dataset"
   ]
  },
  {
   "cell_type": "code",
   "execution_count": null,
   "metadata": {},
   "outputs": [],
   "source": [
    "dataset = []\n",
    "tks = []\n",
    "N = 1000\n",
    "for i in range(1,N+1):\n",
    "    tk = (2*np.pi*i)/(N+1)\n",
    "    tks.append(tk)\n",
    "    xk = [np.cos(tk),np.sin(tk)]\n",
    "    dataset.append(xk)"
   ]
  },
  {
   "cell_type": "markdown",
   "metadata": {},
   "source": [
    "## Plot the data"
   ]
  },
  {
   "cell_type": "code",
   "execution_count": null,
   "metadata": {},
   "outputs": [],
   "source": [
    "plt.rcParams[\"figure.figsize\"]=10,10\n",
    "\n",
    "fig = plt.figure()\n",
    "ax = plt.axes()\n",
    "X,Y = zip(*dataset)\n",
    "ax.plot(X,Y)\n",
    "ax.set_xlabel('X')\n",
    "ax.set_ylabel('Y')\n",
    "plt.show()"
   ]
  },
  {
   "cell_type": "markdown",
   "metadata": {},
   "source": [
    "# Calculate the diffusion map"
   ]
  },
  {
   "cell_type": "code",
   "execution_count": null,
   "metadata": {},
   "outputs": [],
   "source": [
    "eigenvalues,eigenvectors = diffusion_map(dataset)"
   ]
  },
  {
   "cell_type": "markdown",
   "metadata": {},
   "source": [
    "## Plot the eigenfunctions"
   ]
  },
  {
   "cell_type": "code",
   "execution_count": null,
   "metadata": {},
   "outputs": [],
   "source": [
    "plt.rcParams[\"figure.figsize\"]=10,10\n",
    "fig, ax = plt.subplots(5,sharex=True)\n",
    "steps = 1000\n",
    "plt.xlabel('tk')\n",
    "\n",
    "for z in reversed(range(5)):\n",
    "    ax[4-z].set_ylabel('\\u03A6'+str(4-z))\n",
    "    for i in range(1,steps):\n",
    "        ax[4-z].plot(tks[i], eigenvectors[i][z],'bo')\n",
    "plt.show()"
   ]
  },
  {
   "cell_type": "markdown",
   "metadata": {},
   "source": [
    "# Part Two: Swiss roll"
   ]
  },
  {
   "cell_type": "markdown",
   "metadata": {},
   "source": [
    "## Get the data"
   ]
  },
  {
   "cell_type": "code",
   "execution_count": null,
   "metadata": {},
   "outputs": [],
   "source": [
    "swiss_roll,stuff = sklearn.datasets.make_swiss_roll(n_samples=5000, noise=0.0, random_state=None)\n",
    "print(swiss_roll)"
   ]
  },
  {
   "cell_type": "markdown",
   "metadata": {},
   "source": [
    "## Calculate the diffusion map"
   ]
  },
  {
   "cell_type": "code",
   "execution_count": null,
   "metadata": {},
   "outputs": [],
   "source": [
    "eigenvalues,eigenvectors = diffusion_map(swiss_roll,amount_of_vectors = 10)"
   ]
  },
  {
   "cell_type": "markdown",
   "metadata": {},
   "source": [
    "## Plot the eigenfunctions"
   ]
  },
  {
   "cell_type": "code",
   "execution_count": null,
   "metadata": {},
   "outputs": [],
   "source": [
    "fig, ax = plt.subplots(2,5,sharex=True)\n",
    "fig.set_size_inches(30, 10.5)\n",
    "X = [0,0,0,0,0,0,0,0,0,0]\n",
    "X[0],X[1],X[2],X[3],X[4],X[5],X[6],X[7],X[8],X[9]= zip(*eigenvectors)\n",
    "for i in range(2):\n",
    "    for j in range(5):\n",
    "        ax[i][j].set_ylabel('\\u03A6'+str(9-(j*2+i)))\n",
    "        ax[i][j].scatter(X[8],X[j*2+i],c = X[8],cmap = 'viridis')\n",
    "\n",
    "#ax[0].set_ylabel('\\u03A6'+str(0))\n",
    "#ax[0].plot(X[9],X[10],',k')\n",
    "plt.show()"
   ]
  },
  {
   "cell_type": "markdown",
   "metadata": {},
   "source": [
    "## PCA analysis"
   ]
  },
  {
   "cell_type": "markdown",
   "metadata": {},
   "source": [
    "## Two principal components"
   ]
  },
  {
   "cell_type": "code",
   "execution_count": null,
   "metadata": {},
   "outputs": [],
   "source": [
    "projected_points, r, energy, V = pca(2, swiss_roll)\n",
    "print(energy[0]+energy[1])\n",
    "fig = plt.figure(figsize=(10, 10))\n",
    "ax = fig.add_subplot(111, projection=\"3d\")\n",
    "X,Y,Z = zip(*r)\n",
    "ax.scatter(X,Y,Z)\n",
    "ax.set_xlabel(\"x\")\n",
    "ax.set_ylabel(\"y\")\n",
    "ax.set_zlabel(\"z\")\n",
    "ax.view_init(10, 70)"
   ]
  },
  {
   "cell_type": "markdown",
   "metadata": {},
   "source": [
    "## Three principal components"
   ]
  },
  {
   "cell_type": "code",
   "execution_count": null,
   "metadata": {},
   "outputs": [],
   "source": [
    "projected_points, r, energy, V = pca(3, swiss_roll)\n",
    "print(energy[0]+energy[1]+energy[2])\n",
    "fig = plt.figure(figsize=(10, 10))\n",
    "ax = fig.add_subplot(111, projection=\"3d\")\n",
    "X,Y,Z = zip(*r)\n",
    "ax.scatter(X,Y,Z)\n",
    "ax.set_xlabel(\"x\")\n",
    "ax.set_ylabel(\"y\")\n",
    "ax.set_zlabel(\"z\")\n",
    "ax.view_init(10, 70)"
   ]
  },
  {
   "cell_type": "markdown",
   "metadata": {},
   "source": [
    "## PCA with 1000 points"
   ]
  },
  {
   "cell_type": "code",
   "execution_count": null,
   "metadata": {},
   "outputs": [],
   "source": [
    "swiss_roll,stuff = sklearn.datasets.make_swiss_roll(n_samples=1000, noise=0.0, random_state=None)\n",
    "\n",
    "fig = plt.figure(figsize=(10, 10))\n",
    "ax = fig.add_subplot(111, projection=\"3d\")\n",
    "X,Y,Z = zip(*swiss_roll)\n",
    "ax.scatter(X,Y,Z)\n",
    "ax.set_xlabel(\"x\")\n",
    "ax.set_ylabel(\"y\")\n",
    "ax.set_zlabel(\"z\")\n",
    "ax.view_init(10, 70)"
   ]
  },
  {
   "cell_type": "code",
   "execution_count": null,
   "metadata": {},
   "outputs": [],
   "source": [
    "projected_points, r, energy, V = pca(2, swiss_roll)\n",
    "print(energy[0]+energy[1])\n",
    "fig = plt.figure(figsize=(10, 10))\n",
    "ax = fig.add_subplot(111, projection=\"3d\")\n",
    "X,Y,Z = zip(*r)\n",
    "ax.scatter(X,Y,Z)\n",
    "ax.set_xlabel(\"x\")\n",
    "ax.set_ylabel(\"y\")\n",
    "ax.set_zlabel(\"z\")\n",
    "ax.view_init(10, 70)"
   ]
  },
  {
   "cell_type": "code",
   "execution_count": null,
   "metadata": {},
   "outputs": [],
   "source": [
    "projected_points, r, energy, V = pca(3, swiss_roll)\n",
    "print(energy[0]+energy[1]+energy[2])\n",
    "fig = plt.figure(figsize=(10, 10))\n",
    "ax = fig.add_subplot(111, projection=\"3d\")\n",
    "X,Y,Z = zip(*r)\n",
    "ax.scatter(X,Y,Z)\n",
    "ax.set_xlabel(\"x\")\n",
    "ax.set_ylabel(\"y\")\n",
    "ax.set_zlabel(\"z\")\n",
    "ax.view_init(10, 70)"
   ]
  },
  {
   "cell_type": "markdown",
   "metadata": {},
   "source": [
    "## Eigenfunctions with 1000 Points"
   ]
  },
  {
   "cell_type": "code",
   "execution_count": null,
   "metadata": {},
   "outputs": [],
   "source": [
    "eigenvalues,eigenvectors = diffusion_map(swiss_roll,amount_of_vectors = 10)\n",
    "\n",
    "fig, ax = plt.subplots(2,5,sharex=True)\n",
    "fig.set_size_inches(30, 10.5)\n",
    "X = [0,0,0,0,0,0,0,0,0,0]\n",
    "X[0],X[1],X[2],X[3],X[4],X[5],X[6],X[7],X[8],X[9]= zip(*eigenvectors)\n",
    "for i in range(2):\n",
    "    for j in range(5):\n",
    "        ax[i][j].set_ylabel('\\u03A6'+str(9-(j*2+i)))\n",
    "        ax[i][j].scatter(X[8],X[j*2+i],c = X[8],cmap = 'viridis')\n",
    "\n",
    "#ax[0].set_ylabel('\\u03A6'+str(0))\n",
    "#ax[0].plot(X[9],X[10],',k')\n",
    "plt.show()"
   ]
  },
  {
   "cell_type": "markdown",
   "metadata": {},
   "source": [
    "## Part two Bonus"
   ]
  },
  {
   "cell_type": "markdown",
   "metadata": {},
   "source": [
    "## Imports for the bonus"
   ]
  },
  {
   "cell_type": "code",
   "execution_count": null,
   "metadata": {},
   "outputs": [],
   "source": [
    "import copy\n",
    "\n",
    "import matplotlib.pyplot as plt\n",
    "import mpl_toolkits.mplot3d.axes3d as p3\n",
    "import numpy as np\n",
    "import sklearn.manifold as manifold\n",
    "from sklearn.datasets import make_s_curve, make_swiss_roll\n",
    "from sklearn.decomposition import PCA\n",
    "import datafold\n",
    "\n",
    "import datafold.dynfold as dfold\n",
    "import datafold.pcfold as pfold\n",
    "from datafold.dynfold import LocalRegressionSelection\n",
    "from datafold.utils.plot import plot_pairwise_eigenvector"
   ]
  },
  {
   "cell_type": "markdown",
   "metadata": {},
   "source": [
    "## Plot the Swiss roll data"
   ]
  },
  {
   "cell_type": "code",
   "execution_count": null,
   "metadata": {},
   "outputs": [],
   "source": [
    "nr_samples = 5000\n",
    "swiss_roll,stuff = sklearn.datasets.make_swiss_roll(n_samples=nr_samples, noise=0.0, random_state=None)\n",
    "fig = plt.figure(figsize=(10, 10))\n",
    "ax = fig.add_subplot(111, projection=\"3d\")\n",
    "X,Y,Z = zip(*swiss_roll)\n",
    "ax.scatter(X,Y,Z)\n",
    "ax.set_xlabel(\"x\")\n",
    "ax.set_ylabel(\"y\")\n",
    "ax.set_zlabel(\"z\")\n",
    "ax.view_init(10, 70)"
   ]
  },
  {
   "cell_type": "markdown",
   "metadata": {},
   "source": [
    "## Set up the calculation"
   ]
  },
  {
   "cell_type": "code",
   "execution_count": null,
   "metadata": {},
   "outputs": [],
   "source": [
    "X_pcm = pfold.PCManifold(swiss_roll)\n",
    "X_pcm.optimize_parameters()\n",
    "\n",
    "print(f\"epsilon={X_pcm.kernel.epsilon}, cut-off={X_pcm.cut_off}\")"
   ]
  },
  {
   "cell_type": "markdown",
   "metadata": {},
   "source": [
    "## Calculate the diffusion map"
   ]
  },
  {
   "cell_type": "code",
   "execution_count": null,
   "metadata": {},
   "outputs": [],
   "source": [
    "dmap = dfold.DiffusionMaps(\n",
    "    kernel=pfold.GaussianKernel(epsilon=X_pcm.kernel.epsilon),\n",
    "    n_eigenpairs=11,\n",
    "    dist_kwargs=dict(cut_off=X_pcm.cut_off),\n",
    ")\n",
    "dmap = dmap.fit(X_pcm)\n",
    "evecs, evals = dmap.eigenvectors_, dmap.eigenvalues_"
   ]
  },
  {
   "cell_type": "markdown",
   "metadata": {},
   "source": [
    "## Plot the eigenfunctions"
   ]
  },
  {
   "cell_type": "code",
   "execution_count": null,
   "metadata": {
    "tags": []
   },
   "outputs": [],
   "source": [
    "plt.rcParams['figure.dpi'] = 75\n",
    "\n",
    "fig, ax = plt.subplots(2,5,sharex=True)\n",
    "fig.set_size_inches(30, 10.5)\n",
    "plt.rcParams['figure.dpi'] = 50\n",
    "X = [0,0,0,0,0,0,0,0,0,0,0]\n",
    "X[0],X[1],X[2],X[3],X[4],X[5],X[6],X[7],X[8],X[9],X[10]= zip(*evecs)\n",
    "for i in range(2):\n",
    "    for j in range(5):\n",
    "        ax[i][j].set_ylabel('\\u03A6'+str((j*2+i)))\n",
    "        ax[i][j].scatter(X[1],X[j*2+i],c = X[1],cmap = 'viridis')\n",
    "\n",
    "plt.show()"
   ]
  },
  {
   "cell_type": "markdown",
   "metadata": {
    "tags": []
   },
   "source": [
    "# Part Three"
   ]
  },
  {
   "cell_type": "markdown",
   "metadata": {},
   "source": [
    "## Get the data"
   ]
  },
  {
   "cell_type": "code",
   "execution_count": null,
   "metadata": {},
   "outputs": [],
   "source": [
    "data = np.genfromtxt(\"datasets/pca/data_DMAP_PCA_vadere.txt\", dtype='double')\n",
    "print(\"Shape =\", data.shape)"
   ]
  },
  {
   "cell_type": "markdown",
   "metadata": {},
   "source": [
    "## Calculate the diffusion map"
   ]
  },
  {
   "cell_type": "code",
   "execution_count": null,
   "metadata": {},
   "outputs": [],
   "source": [
    "eigenvalues,eigenvectors = diffusion_map(data,amount_of_vectors = 6)"
   ]
  },
  {
   "cell_type": "markdown",
   "metadata": {},
   "source": [
    "## Plot the eigenfunctions"
   ]
  },
  {
   "cell_type": "code",
   "execution_count": null,
   "metadata": {},
   "outputs": [],
   "source": [
    "plt.rcParams[\"figure.figsize\"]=20,10\n",
    "fig, ax = plt.subplots(2,3,sharex=True)\n",
    "X = [0,0,0,0,0,0]\n",
    "X[0],X[1],X[2],X[3],X[4],X[5]= zip(*eigenvectors)\n",
    "\n",
    "for i in range(2):\n",
    "    for j in range(3):\n",
    "        ax[i][j].set_ylabel('\\u03A6'+str((2*j+i)))\n",
    "        ax[i,j].scatter(X[4],X[5-(j*2+i)])\n",
    "\n",
    "plt.show()"
   ]
  },
  {
   "cell_type": "code",
   "execution_count": null,
   "metadata": {},
   "outputs": [],
   "source": []
  }
 ],
 "metadata": {
  "kernelspec": {
   "display_name": "Python 3",
   "language": "python",
   "name": "python3"
  },
  "language_info": {
   "codemirror_mode": {
    "name": "ipython",
    "version": 3
   },
   "file_extension": ".py",
   "mimetype": "text/x-python",
   "name": "python",
   "nbconvert_exporter": "python",
   "pygments_lexer": "ipython3",
   "version": "3.9.4"
  }
 },
 "nbformat": 4,
 "nbformat_minor": 4
}
